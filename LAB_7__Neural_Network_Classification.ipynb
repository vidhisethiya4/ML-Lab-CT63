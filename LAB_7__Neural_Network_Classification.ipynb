{
  "nbformat": 4,
  "nbformat_minor": 0,
  "metadata": {
    "colab": {
      "name": "LAB_7_ Neural_Network_Classification.ipynb",
      "provenance": [],
      "collapsed_sections": []
    },
    "kernelspec": {
      "name": "python3",
      "display_name": "Python 3"
    },
    "language_info": {
      "name": "python"
    }
  },
  "cells": [
    {
      "cell_type": "markdown",
      "metadata": {
        "id": "ZpJe0cAaoG98"
      },
      "source": [
        "# Tutorial 3: Neural Network Classification"
      ]
    },
    {
      "cell_type": "markdown",
      "metadata": {
        "id": "dIT7QrK2PwdM"
      },
      "source": [
        "Dataset: [Pima Indian Diabetes Dataset](https://data.world/data-society/pima-indians-diabetes-database#)\n",
        "\n",
        "This dataset is originally from the National Institute of Diabetes and Digestive and Kidney Diseases. The objective is to predict based on diagnostic measurements whether a patient has diabetes.\n",
        "\n",
        "Several constraints were placed on the selection of these instances from a larger database. In particular, all patients here are females at least 21 years old of Pima Indian heritage.\n",
        "\n",
        "Attributes of PIMA dataset:\n",
        "\n",
        "**Pregnancies**: Number of times pregnant\n",
        "\n",
        "**Glucose**: Plasma glucose concentration a 2 hours in an oral glucose tolerance test\n",
        "\n",
        "**BloodPressure**: Diastolic blood pressure (mm Hg)\n",
        "\n",
        "**SkinThickness**: Triceps skin fold thickness (mm)\n",
        "\n",
        "**Insulin**: 2-Hour serum insulin (mu U/ml)\n",
        "\n",
        "**BMI**: Body mass index (weight in kg/(height in m)^2)\n",
        "\n",
        "**DiabetesPedigreeFunction**: Diabetes pedigree function\n",
        "\n",
        "**Age**: Age (years)\n",
        "\n",
        "**Outcome**: Class variable (0 or 1)"
      ]
    },
    {
      "cell_type": "markdown",
      "metadata": {
        "id": "FIAgs3sTY712"
      },
      "source": [
        "**1. Mount the Google Drive**"
      ]
    },
    {
      "cell_type": "code",
      "metadata": {
        "id": "CrZg_G5MQ4L5",
        "colab": {
          "base_uri": "https://localhost:8080/"
        },
        "outputId": "14c52ee7-3ceb-4cd2-cc3f-74e54324014a"
      },
      "source": [
        "from google.colab import drive\n",
        "drive.mount('/content/drive')"
      ],
      "execution_count": 1,
      "outputs": [
        {
          "output_type": "stream",
          "name": "stdout",
          "text": [
            "Mounted at /content/drive\n"
          ]
        }
      ]
    },
    {
      "cell_type": "markdown",
      "metadata": {
        "id": "CqAhYoWHZAwg"
      },
      "source": [
        "**2. Move to the place where data resides**"
      ]
    },
    {
      "cell_type": "code",
      "metadata": {
        "colab": {
          "base_uri": "https://localhost:8080/"
        },
        "id": "TjgG_3CiP4eQ",
        "outputId": "3a08a5aa-0bf5-45c2-c3cb-a561307b3dc4"
      },
      "source": [
        "%cd /content/drive/MyDrive/Colab Notebooks/diabetes.csv"
      ],
      "execution_count": 2,
      "outputs": [
        {
          "output_type": "stream",
          "name": "stdout",
          "text": [
            "[Errno 20] Not a directory: '/content/drive/MyDrive/Colab Notebooks/diabetes.csv'\n",
            "/content\n"
          ]
        }
      ]
    },
    {
      "cell_type": "code",
      "source": [
        "!ls"
      ],
      "metadata": {
        "id": "S-KhHH_xATY8",
        "colab": {
          "base_uri": "https://localhost:8080/"
        },
        "outputId": "36441f1a-7eac-4377-aef8-749f07d44abc"
      },
      "execution_count": 3,
      "outputs": [
        {
          "output_type": "stream",
          "name": "stdout",
          "text": [
            "drive  sample_data\n"
          ]
        }
      ]
    },
    {
      "cell_type": "code",
      "source": [
        ""
      ],
      "metadata": {
        "id": "f65jHMx2I_1O"
      },
      "execution_count": 3,
      "outputs": []
    },
    {
      "cell_type": "markdown",
      "metadata": {
        "id": "VKvfswsOZLUB"
      },
      "source": [
        "**3. Read the dataset from CSV file**"
      ]
    },
    {
      "cell_type": "code",
      "metadata": {
        "colab": {
          "base_uri": "https://localhost:8080/",
          "height": 363
        },
        "id": "32nNonRSSaQq",
        "outputId": "94d9022c-9871-4644-c8b3-36d65a00b9f1"
      },
      "source": [
        "import pandas as pd\n",
        "data = pd.read_csv('/content/drive/MyDrive/Colab Notebooks/diabetes.csv')\n",
        "data.head(10)"
      ],
      "execution_count": 4,
      "outputs": [
        {
          "output_type": "execute_result",
          "data": {
            "text/plain": [
              "   Pregnancies  Glucose  BloodPressure  SkinThickness  Insulin   BMI  \\\n",
              "0            6      148             72             35        0  33.6   \n",
              "1            1       85             66             29        0  26.6   \n",
              "2            8      183             64              0        0  23.3   \n",
              "3            1       89             66             23       94  28.1   \n",
              "4            0      137             40             35      168  43.1   \n",
              "5            5      116             74              0        0  25.6   \n",
              "6            3       78             50             32       88  31.0   \n",
              "7           10      115              0              0        0  35.3   \n",
              "8            2      197             70             45      543  30.5   \n",
              "9            8      125             96              0        0   0.0   \n",
              "\n",
              "   DiabetesPedigreeFunction  Age  Outcome  \n",
              "0                     0.627   50        1  \n",
              "1                     0.351   31        0  \n",
              "2                     0.672   32        1  \n",
              "3                     0.167   21        0  \n",
              "4                     2.288   33        1  \n",
              "5                     0.201   30        0  \n",
              "6                     0.248   26        1  \n",
              "7                     0.134   29        0  \n",
              "8                     0.158   53        1  \n",
              "9                     0.232   54        1  "
            ],
            "text/html": [
              "\n",
              "  <div id=\"df-325c7d0a-f334-4599-9a17-6644dd1e51bf\">\n",
              "    <div class=\"colab-df-container\">\n",
              "      <div>\n",
              "<style scoped>\n",
              "    .dataframe tbody tr th:only-of-type {\n",
              "        vertical-align: middle;\n",
              "    }\n",
              "\n",
              "    .dataframe tbody tr th {\n",
              "        vertical-align: top;\n",
              "    }\n",
              "\n",
              "    .dataframe thead th {\n",
              "        text-align: right;\n",
              "    }\n",
              "</style>\n",
              "<table border=\"1\" class=\"dataframe\">\n",
              "  <thead>\n",
              "    <tr style=\"text-align: right;\">\n",
              "      <th></th>\n",
              "      <th>Pregnancies</th>\n",
              "      <th>Glucose</th>\n",
              "      <th>BloodPressure</th>\n",
              "      <th>SkinThickness</th>\n",
              "      <th>Insulin</th>\n",
              "      <th>BMI</th>\n",
              "      <th>DiabetesPedigreeFunction</th>\n",
              "      <th>Age</th>\n",
              "      <th>Outcome</th>\n",
              "    </tr>\n",
              "  </thead>\n",
              "  <tbody>\n",
              "    <tr>\n",
              "      <th>0</th>\n",
              "      <td>6</td>\n",
              "      <td>148</td>\n",
              "      <td>72</td>\n",
              "      <td>35</td>\n",
              "      <td>0</td>\n",
              "      <td>33.6</td>\n",
              "      <td>0.627</td>\n",
              "      <td>50</td>\n",
              "      <td>1</td>\n",
              "    </tr>\n",
              "    <tr>\n",
              "      <th>1</th>\n",
              "      <td>1</td>\n",
              "      <td>85</td>\n",
              "      <td>66</td>\n",
              "      <td>29</td>\n",
              "      <td>0</td>\n",
              "      <td>26.6</td>\n",
              "      <td>0.351</td>\n",
              "      <td>31</td>\n",
              "      <td>0</td>\n",
              "    </tr>\n",
              "    <tr>\n",
              "      <th>2</th>\n",
              "      <td>8</td>\n",
              "      <td>183</td>\n",
              "      <td>64</td>\n",
              "      <td>0</td>\n",
              "      <td>0</td>\n",
              "      <td>23.3</td>\n",
              "      <td>0.672</td>\n",
              "      <td>32</td>\n",
              "      <td>1</td>\n",
              "    </tr>\n",
              "    <tr>\n",
              "      <th>3</th>\n",
              "      <td>1</td>\n",
              "      <td>89</td>\n",
              "      <td>66</td>\n",
              "      <td>23</td>\n",
              "      <td>94</td>\n",
              "      <td>28.1</td>\n",
              "      <td>0.167</td>\n",
              "      <td>21</td>\n",
              "      <td>0</td>\n",
              "    </tr>\n",
              "    <tr>\n",
              "      <th>4</th>\n",
              "      <td>0</td>\n",
              "      <td>137</td>\n",
              "      <td>40</td>\n",
              "      <td>35</td>\n",
              "      <td>168</td>\n",
              "      <td>43.1</td>\n",
              "      <td>2.288</td>\n",
              "      <td>33</td>\n",
              "      <td>1</td>\n",
              "    </tr>\n",
              "    <tr>\n",
              "      <th>5</th>\n",
              "      <td>5</td>\n",
              "      <td>116</td>\n",
              "      <td>74</td>\n",
              "      <td>0</td>\n",
              "      <td>0</td>\n",
              "      <td>25.6</td>\n",
              "      <td>0.201</td>\n",
              "      <td>30</td>\n",
              "      <td>0</td>\n",
              "    </tr>\n",
              "    <tr>\n",
              "      <th>6</th>\n",
              "      <td>3</td>\n",
              "      <td>78</td>\n",
              "      <td>50</td>\n",
              "      <td>32</td>\n",
              "      <td>88</td>\n",
              "      <td>31.0</td>\n",
              "      <td>0.248</td>\n",
              "      <td>26</td>\n",
              "      <td>1</td>\n",
              "    </tr>\n",
              "    <tr>\n",
              "      <th>7</th>\n",
              "      <td>10</td>\n",
              "      <td>115</td>\n",
              "      <td>0</td>\n",
              "      <td>0</td>\n",
              "      <td>0</td>\n",
              "      <td>35.3</td>\n",
              "      <td>0.134</td>\n",
              "      <td>29</td>\n",
              "      <td>0</td>\n",
              "    </tr>\n",
              "    <tr>\n",
              "      <th>8</th>\n",
              "      <td>2</td>\n",
              "      <td>197</td>\n",
              "      <td>70</td>\n",
              "      <td>45</td>\n",
              "      <td>543</td>\n",
              "      <td>30.5</td>\n",
              "      <td>0.158</td>\n",
              "      <td>53</td>\n",
              "      <td>1</td>\n",
              "    </tr>\n",
              "    <tr>\n",
              "      <th>9</th>\n",
              "      <td>8</td>\n",
              "      <td>125</td>\n",
              "      <td>96</td>\n",
              "      <td>0</td>\n",
              "      <td>0</td>\n",
              "      <td>0.0</td>\n",
              "      <td>0.232</td>\n",
              "      <td>54</td>\n",
              "      <td>1</td>\n",
              "    </tr>\n",
              "  </tbody>\n",
              "</table>\n",
              "</div>\n",
              "      <button class=\"colab-df-convert\" onclick=\"convertToInteractive('df-325c7d0a-f334-4599-9a17-6644dd1e51bf')\"\n",
              "              title=\"Convert this dataframe to an interactive table.\"\n",
              "              style=\"display:none;\">\n",
              "        \n",
              "  <svg xmlns=\"http://www.w3.org/2000/svg\" height=\"24px\"viewBox=\"0 0 24 24\"\n",
              "       width=\"24px\">\n",
              "    <path d=\"M0 0h24v24H0V0z\" fill=\"none\"/>\n",
              "    <path d=\"M18.56 5.44l.94 2.06.94-2.06 2.06-.94-2.06-.94-.94-2.06-.94 2.06-2.06.94zm-11 1L8.5 8.5l.94-2.06 2.06-.94-2.06-.94L8.5 2.5l-.94 2.06-2.06.94zm10 10l.94 2.06.94-2.06 2.06-.94-2.06-.94-.94-2.06-.94 2.06-2.06.94z\"/><path d=\"M17.41 7.96l-1.37-1.37c-.4-.4-.92-.59-1.43-.59-.52 0-1.04.2-1.43.59L10.3 9.45l-7.72 7.72c-.78.78-.78 2.05 0 2.83L4 21.41c.39.39.9.59 1.41.59.51 0 1.02-.2 1.41-.59l7.78-7.78 2.81-2.81c.8-.78.8-2.07 0-2.86zM5.41 20L4 18.59l7.72-7.72 1.47 1.35L5.41 20z\"/>\n",
              "  </svg>\n",
              "      </button>\n",
              "      \n",
              "  <style>\n",
              "    .colab-df-container {\n",
              "      display:flex;\n",
              "      flex-wrap:wrap;\n",
              "      gap: 12px;\n",
              "    }\n",
              "\n",
              "    .colab-df-convert {\n",
              "      background-color: #E8F0FE;\n",
              "      border: none;\n",
              "      border-radius: 50%;\n",
              "      cursor: pointer;\n",
              "      display: none;\n",
              "      fill: #1967D2;\n",
              "      height: 32px;\n",
              "      padding: 0 0 0 0;\n",
              "      width: 32px;\n",
              "    }\n",
              "\n",
              "    .colab-df-convert:hover {\n",
              "      background-color: #E2EBFA;\n",
              "      box-shadow: 0px 1px 2px rgba(60, 64, 67, 0.3), 0px 1px 3px 1px rgba(60, 64, 67, 0.15);\n",
              "      fill: #174EA6;\n",
              "    }\n",
              "\n",
              "    [theme=dark] .colab-df-convert {\n",
              "      background-color: #3B4455;\n",
              "      fill: #D2E3FC;\n",
              "    }\n",
              "\n",
              "    [theme=dark] .colab-df-convert:hover {\n",
              "      background-color: #434B5C;\n",
              "      box-shadow: 0px 1px 3px 1px rgba(0, 0, 0, 0.15);\n",
              "      filter: drop-shadow(0px 1px 2px rgba(0, 0, 0, 0.3));\n",
              "      fill: #FFFFFF;\n",
              "    }\n",
              "  </style>\n",
              "\n",
              "      <script>\n",
              "        const buttonEl =\n",
              "          document.querySelector('#df-325c7d0a-f334-4599-9a17-6644dd1e51bf button.colab-df-convert');\n",
              "        buttonEl.style.display =\n",
              "          google.colab.kernel.accessAllowed ? 'block' : 'none';\n",
              "\n",
              "        async function convertToInteractive(key) {\n",
              "          const element = document.querySelector('#df-325c7d0a-f334-4599-9a17-6644dd1e51bf');\n",
              "          const dataTable =\n",
              "            await google.colab.kernel.invokeFunction('convertToInteractive',\n",
              "                                                     [key], {});\n",
              "          if (!dataTable) return;\n",
              "\n",
              "          const docLinkHtml = 'Like what you see? Visit the ' +\n",
              "            '<a target=\"_blank\" href=https://colab.research.google.com/notebooks/data_table.ipynb>data table notebook</a>'\n",
              "            + ' to learn more about interactive tables.';\n",
              "          element.innerHTML = '';\n",
              "          dataTable['output_type'] = 'display_data';\n",
              "          await google.colab.output.renderOutput(dataTable, element);\n",
              "          const docLink = document.createElement('div');\n",
              "          docLink.innerHTML = docLinkHtml;\n",
              "          element.appendChild(docLink);\n",
              "        }\n",
              "      </script>\n",
              "    </div>\n",
              "  </div>\n",
              "  "
            ]
          },
          "metadata": {},
          "execution_count": 4
        }
      ]
    },
    {
      "cell_type": "code",
      "metadata": {
        "colab": {
          "base_uri": "https://localhost:8080/"
        },
        "id": "ZrslDLESShr7",
        "outputId": "524faa9e-4293-4e03-d07e-64fd460f5bce"
      },
      "source": [
        "data.columns"
      ],
      "execution_count": 5,
      "outputs": [
        {
          "output_type": "execute_result",
          "data": {
            "text/plain": [
              "Index(['Pregnancies', 'Glucose', 'BloodPressure', 'SkinThickness', 'Insulin',\n",
              "       'BMI', 'DiabetesPedigreeFunction', 'Age', 'Outcome'],\n",
              "      dtype='object')"
            ]
          },
          "metadata": {},
          "execution_count": 5
        }
      ]
    },
    {
      "cell_type": "code",
      "metadata": {
        "colab": {
          "base_uri": "https://localhost:8080/"
        },
        "id": "BLElehZ-Skgq",
        "outputId": "f6751855-167a-4440-c40f-05aab43a00a9"
      },
      "source": [
        "data.values"
      ],
      "execution_count": 6,
      "outputs": [
        {
          "output_type": "execute_result",
          "data": {
            "text/plain": [
              "array([[  6.   , 148.   ,  72.   , ...,   0.627,  50.   ,   1.   ],\n",
              "       [  1.   ,  85.   ,  66.   , ...,   0.351,  31.   ,   0.   ],\n",
              "       [  8.   , 183.   ,  64.   , ...,   0.672,  32.   ,   1.   ],\n",
              "       ...,\n",
              "       [  5.   , 121.   ,  72.   , ...,   0.245,  30.   ,   0.   ],\n",
              "       [  1.   , 126.   ,  60.   , ...,   0.349,  47.   ,   1.   ],\n",
              "       [  1.   ,  93.   ,  70.   , ...,   0.315,  23.   ,   0.   ]])"
            ]
          },
          "metadata": {},
          "execution_count": 6
        }
      ]
    },
    {
      "cell_type": "markdown",
      "metadata": {
        "id": "2HnZxGc4ZQlf"
      },
      "source": [
        "**4. Store the data into input feature and label variables**"
      ]
    },
    {
      "cell_type": "code",
      "metadata": {
        "colab": {
          "base_uri": "https://localhost:8080/"
        },
        "id": "IPfA5BF0Sm4R",
        "outputId": "fddf2a74-b347-4ba3-b1d8-7762e8b89524"
      },
      "source": [
        "dataset= data.values\n",
        "X = dataset[:,0:8]\n",
        "Y = dataset[:,8]\n",
        "print(X)\n",
        "print(Y)"
      ],
      "execution_count": 7,
      "outputs": [
        {
          "output_type": "stream",
          "name": "stdout",
          "text": [
            "[[  6.    148.     72.    ...  33.6     0.627  50.   ]\n",
            " [  1.     85.     66.    ...  26.6     0.351  31.   ]\n",
            " [  8.    183.     64.    ...  23.3     0.672  32.   ]\n",
            " ...\n",
            " [  5.    121.     72.    ...  26.2     0.245  30.   ]\n",
            " [  1.    126.     60.    ...  30.1     0.349  47.   ]\n",
            " [  1.     93.     70.    ...  30.4     0.315  23.   ]]\n",
            "[1. 0. 1. 0. 1. 0. 1. 0. 1. 1. 0. 1. 0. 1. 1. 1. 1. 1. 0. 1. 0. 0. 1. 1.\n",
            " 1. 1. 1. 0. 0. 0. 0. 1. 0. 0. 0. 0. 0. 1. 1. 1. 0. 0. 0. 1. 0. 1. 0. 0.\n",
            " 1. 0. 0. 0. 0. 1. 0. 0. 1. 0. 0. 0. 0. 1. 0. 0. 1. 0. 1. 0. 0. 0. 1. 0.\n",
            " 1. 0. 0. 0. 0. 0. 1. 0. 0. 0. 0. 0. 1. 0. 0. 0. 1. 0. 0. 0. 0. 1. 0. 0.\n",
            " 0. 0. 0. 1. 1. 0. 0. 0. 0. 0. 0. 0. 0. 1. 1. 1. 0. 0. 1. 1. 1. 0. 0. 0.\n",
            " 1. 0. 0. 0. 1. 1. 0. 0. 1. 1. 1. 1. 1. 0. 0. 0. 0. 0. 0. 0. 0. 0. 0. 1.\n",
            " 0. 0. 0. 0. 0. 0. 0. 0. 1. 0. 1. 1. 0. 0. 0. 1. 0. 0. 0. 0. 1. 1. 0. 0.\n",
            " 0. 0. 1. 1. 0. 0. 0. 1. 0. 1. 0. 1. 0. 0. 0. 0. 0. 1. 1. 1. 1. 1. 0. 0.\n",
            " 1. 1. 0. 1. 0. 1. 1. 1. 0. 0. 0. 0. 0. 0. 1. 1. 0. 1. 0. 0. 0. 1. 1. 1.\n",
            " 1. 0. 1. 1. 1. 1. 0. 0. 0. 0. 0. 1. 0. 0. 1. 1. 0. 0. 0. 1. 1. 1. 1. 0.\n",
            " 0. 0. 1. 1. 0. 1. 0. 0. 0. 0. 0. 0. 0. 0. 1. 1. 0. 0. 0. 1. 0. 1. 0. 0.\n",
            " 1. 0. 1. 0. 0. 1. 1. 0. 0. 0. 0. 0. 1. 0. 0. 0. 1. 0. 0. 1. 1. 0. 0. 1.\n",
            " 0. 0. 0. 1. 1. 1. 0. 0. 1. 0. 1. 0. 1. 1. 0. 1. 0. 0. 1. 0. 1. 1. 0. 0.\n",
            " 1. 0. 1. 0. 0. 1. 0. 1. 0. 1. 1. 1. 0. 0. 1. 0. 1. 0. 0. 0. 1. 0. 0. 0.\n",
            " 0. 1. 1. 1. 0. 0. 0. 0. 0. 0. 0. 0. 0. 1. 0. 0. 0. 0. 0. 1. 1. 1. 0. 1.\n",
            " 1. 0. 0. 1. 0. 0. 1. 0. 0. 1. 1. 0. 0. 0. 0. 1. 0. 0. 1. 0. 0. 0. 0. 0.\n",
            " 0. 0. 1. 1. 1. 0. 0. 1. 0. 0. 1. 0. 0. 1. 0. 1. 1. 0. 1. 0. 1. 0. 1. 0.\n",
            " 1. 1. 0. 0. 0. 0. 1. 1. 0. 1. 0. 1. 0. 0. 0. 0. 1. 1. 0. 1. 0. 1. 0. 0.\n",
            " 0. 0. 0. 1. 0. 0. 0. 0. 1. 0. 0. 1. 1. 1. 0. 0. 1. 0. 0. 1. 0. 0. 0. 1.\n",
            " 0. 0. 1. 0. 0. 0. 0. 0. 0. 0. 0. 0. 1. 0. 0. 0. 0. 0. 0. 0. 1. 0. 0. 0.\n",
            " 1. 0. 0. 0. 1. 1. 0. 0. 0. 0. 0. 0. 0. 1. 0. 0. 0. 0. 1. 0. 0. 0. 1. 0.\n",
            " 0. 0. 1. 0. 0. 0. 1. 0. 0. 0. 0. 1. 1. 0. 0. 0. 0. 0. 0. 1. 0. 0. 0. 0.\n",
            " 0. 0. 0. 0. 0. 0. 0. 1. 0. 0. 0. 1. 1. 1. 1. 0. 0. 1. 1. 0. 0. 0. 0. 0.\n",
            " 0. 0. 0. 0. 0. 0. 0. 0. 1. 1. 0. 0. 0. 0. 0. 0. 0. 1. 0. 0. 0. 0. 0. 0.\n",
            " 0. 1. 0. 1. 1. 0. 0. 0. 1. 0. 1. 0. 1. 0. 1. 0. 1. 0. 0. 1. 0. 0. 1. 0.\n",
            " 0. 0. 0. 1. 1. 0. 1. 0. 0. 0. 0. 1. 1. 0. 1. 0. 0. 0. 1. 1. 0. 0. 0. 0.\n",
            " 0. 0. 0. 0. 0. 0. 1. 0. 0. 0. 0. 1. 0. 0. 1. 0. 0. 0. 1. 0. 0. 0. 1. 1.\n",
            " 1. 0. 0. 0. 0. 0. 0. 1. 0. 0. 0. 1. 0. 1. 1. 1. 1. 0. 1. 1. 0. 0. 0. 0.\n",
            " 0. 0. 0. 1. 1. 0. 1. 0. 0. 1. 0. 1. 0. 0. 0. 0. 0. 1. 0. 1. 0. 1. 0. 1.\n",
            " 1. 0. 0. 0. 0. 1. 1. 0. 0. 0. 1. 0. 1. 1. 0. 0. 1. 0. 0. 1. 1. 0. 0. 1.\n",
            " 0. 0. 1. 0. 0. 0. 0. 0. 0. 0. 1. 1. 1. 0. 0. 0. 0. 0. 0. 1. 1. 0. 0. 1.\n",
            " 0. 0. 1. 0. 1. 1. 1. 0. 0. 1. 1. 1. 0. 1. 0. 1. 0. 1. 0. 0. 0. 0. 1. 0.]\n"
          ]
        }
      ]
    },
    {
      "cell_type": "markdown",
      "metadata": {
        "id": "OdPZerNUZV4Q"
      },
      "source": [
        "**5. Data Normalization**"
      ]
    },
    {
      "cell_type": "code",
      "metadata": {
        "colab": {
          "base_uri": "https://localhost:8080/"
        },
        "id": "pM4g3T1fWri-",
        "outputId": "e5d22be0-3eae-4b9e-e291-93879b77c8bd"
      },
      "source": [
        "from sklearn import preprocessing\n",
        "min_max_scaler = preprocessing.MinMaxScaler()\n",
        "X_scale = min_max_scaler.fit_transform(X)\n",
        "X_scale"
      ],
      "execution_count": 8,
      "outputs": [
        {
          "output_type": "execute_result",
          "data": {
            "text/plain": [
              "array([[0.35294118, 0.74371859, 0.59016393, ..., 0.50074516, 0.23441503,\n",
              "        0.48333333],\n",
              "       [0.05882353, 0.42713568, 0.54098361, ..., 0.39642325, 0.11656704,\n",
              "        0.16666667],\n",
              "       [0.47058824, 0.91959799, 0.52459016, ..., 0.34724292, 0.25362938,\n",
              "        0.18333333],\n",
              "       ...,\n",
              "       [0.29411765, 0.6080402 , 0.59016393, ..., 0.390462  , 0.07130658,\n",
              "        0.15      ],\n",
              "       [0.05882353, 0.63316583, 0.49180328, ..., 0.4485842 , 0.11571307,\n",
              "        0.43333333],\n",
              "       [0.05882353, 0.46733668, 0.57377049, ..., 0.45305514, 0.10119556,\n",
              "        0.03333333]])"
            ]
          },
          "metadata": {},
          "execution_count": 8
        }
      ]
    },
    {
      "cell_type": "markdown",
      "metadata": {
        "id": "n1B5x8C0ZY-e"
      },
      "source": [
        "**6. One-hot vector conversion**"
      ]
    },
    {
      "cell_type": "code",
      "metadata": {
        "colab": {
          "base_uri": "https://localhost:8080/"
        },
        "id": "IWPUAnA-XNd8",
        "outputId": "5415a260-729f-4213-dac6-fa3a545dd137"
      },
      "source": [
        "from keras.utils import np_utils\n",
        "encoded_y = np_utils.to_categorical(Y)\n",
        "encoded_y"
      ],
      "execution_count": 9,
      "outputs": [
        {
          "output_type": "execute_result",
          "data": {
            "text/plain": [
              "array([[0., 1.],\n",
              "       [1., 0.],\n",
              "       [0., 1.],\n",
              "       ...,\n",
              "       [1., 0.],\n",
              "       [0., 1.],\n",
              "       [1., 0.]], dtype=float32)"
            ]
          },
          "metadata": {},
          "execution_count": 9
        }
      ]
    },
    {
      "cell_type": "markdown",
      "metadata": {
        "id": "IeJWmMxjZbgo"
      },
      "source": [
        "**7. Split the dataset into training, testing and validation set**"
      ]
    },
    {
      "cell_type": "code",
      "metadata": {
        "colab": {
          "base_uri": "https://localhost:8080/"
        },
        "id": "3BqXnV1FXYIV",
        "outputId": "cc6e7d0b-e22f-4460-84c6-9b64d763e113"
      },
      "source": [
        "from sklearn.model_selection import train_test_split\n",
        "X_training, X_testing, Y_training, Y_testing = train_test_split(X_scale, encoded_y, test_size=0.2, random_state=10)\n",
        "X_training, X_valid, Y_training, Y_valid = train_test_split(X_training, Y_training, test_size=0.2, random_state=10)\n",
        "print(len(X_training))\n",
        "print(len(X_testing))\n",
        "print(len(X_valid))"
      ],
      "execution_count": 10,
      "outputs": [
        {
          "output_type": "stream",
          "name": "stdout",
          "text": [
            "491\n",
            "154\n",
            "123\n"
          ]
        }
      ]
    },
    {
      "cell_type": "markdown",
      "metadata": {
        "id": "EH9IZizVZfKB"
      },
      "source": [
        "**8. Model Creation**"
      ]
    },
    {
      "cell_type": "code",
      "metadata": {
        "id": "hNfmvbMOXeku",
        "colab": {
          "base_uri": "https://localhost:8080/"
        },
        "outputId": "8fd80ae3-3f8e-4872-a0cb-ee5a80d67d1b"
      },
      "source": [
        "from keras.models import Sequential\n",
        "from keras.layers import Dense\n",
        "\n",
        "# Creating the model\n",
        "model = Sequential()\n",
        "model.add(Dense(20, input_shape=(8,), activation='relu'))\n",
        "model.add(Dense(12, activation='tanh'))\n",
        "model.add(Dense(8, activation='tanh'))\n",
        "model.add(Dense(4, activation='relu'))\n",
        "model.add(Dense(2, activation='softmax'))\n",
        "model.summary()   #gives a summary of the model"
      ],
      "execution_count": 27,
      "outputs": [
        {
          "output_type": "stream",
          "name": "stdout",
          "text": [
            "Model: \"sequential_4\"\n",
            "_________________________________________________________________\n",
            " Layer (type)                Output Shape              Param #   \n",
            "=================================================================\n",
            " dense_20 (Dense)            (None, 20)                180       \n",
            "                                                                 \n",
            " dense_21 (Dense)            (None, 12)                252       \n",
            "                                                                 \n",
            " dense_22 (Dense)            (None, 8)                 104       \n",
            "                                                                 \n",
            " dense_23 (Dense)            (None, 4)                 36        \n",
            "                                                                 \n",
            " dense_24 (Dense)            (None, 2)                 10        \n",
            "                                                                 \n",
            "=================================================================\n",
            "Total params: 582\n",
            "Trainable params: 582\n",
            "Non-trainable params: 0\n",
            "_________________________________________________________________\n"
          ]
        }
      ]
    },
    {
      "cell_type": "markdown",
      "metadata": {
        "id": "iYxZHI_EZiEF"
      },
      "source": [
        "**9. Model Compile**"
      ]
    },
    {
      "cell_type": "code",
      "metadata": {
        "id": "plF2qlxwXiIY"
      },
      "source": [
        "from tensorflow.keras import optimizers\n",
        "opt=optimizers.SGD(learning_rate=0.01)\n",
        "model.compile(loss='categorical_crossentropy', optimizer=opt, metrics=['accuracy'])"
      ],
      "execution_count": 28,
      "outputs": []
    },
    {
      "cell_type": "markdown",
      "metadata": {
        "id": "E8VrUFVQZkNd"
      },
      "source": [
        "**10. Model Training**"
      ]
    },
    {
      "cell_type": "markdown",
      "source": [
        "if you have 1000 training examples, and your batch size is  500, then it will take 2 iterations to complete 1 epoch."
      ],
      "metadata": {
        "id": "08Ul5lN90_Sp"
      }
    },
    {
      "cell_type": "code",
      "metadata": {
        "colab": {
          "base_uri": "https://localhost:8080/"
        },
        "id": "xhDZ8yPhXrs0",
        "outputId": "386aa1da-9a00-42cd-87a3-dea2dba76111"
      },
      "source": [
        "hist = model.fit(X_training, Y_training,batch_size=20,  epochs=200, validation_data=(X_valid,Y_valid))"
      ],
      "execution_count": 29,
      "outputs": [
        {
          "output_type": "stream",
          "name": "stdout",
          "text": [
            "Epoch 1/200\n",
            "25/25 [==============================] - 1s 10ms/step - loss: 0.6784 - accuracy: 0.6171 - val_loss: 0.6572 - val_accuracy: 0.6260\n",
            "Epoch 2/200\n",
            "25/25 [==============================] - 0s 3ms/step - loss: 0.6501 - accuracy: 0.6680 - val_loss: 0.6510 - val_accuracy: 0.6260\n",
            "Epoch 3/200\n",
            "25/25 [==============================] - 0s 3ms/step - loss: 0.6397 - accuracy: 0.6680 - val_loss: 0.6493 - val_accuracy: 0.6260\n",
            "Epoch 4/200\n",
            "25/25 [==============================] - 0s 3ms/step - loss: 0.6350 - accuracy: 0.6680 - val_loss: 0.6489 - val_accuracy: 0.6260\n",
            "Epoch 5/200\n",
            "25/25 [==============================] - 0s 3ms/step - loss: 0.6320 - accuracy: 0.6680 - val_loss: 0.6473 - val_accuracy: 0.6260\n",
            "Epoch 6/200\n",
            "25/25 [==============================] - 0s 3ms/step - loss: 0.6298 - accuracy: 0.6680 - val_loss: 0.6483 - val_accuracy: 0.6260\n",
            "Epoch 7/200\n",
            "25/25 [==============================] - 0s 3ms/step - loss: 0.6276 - accuracy: 0.6680 - val_loss: 0.6459 - val_accuracy: 0.6260\n",
            "Epoch 8/200\n",
            "25/25 [==============================] - 0s 3ms/step - loss: 0.6251 - accuracy: 0.6680 - val_loss: 0.6426 - val_accuracy: 0.6260\n",
            "Epoch 9/200\n",
            "25/25 [==============================] - 0s 3ms/step - loss: 0.6228 - accuracy: 0.6680 - val_loss: 0.6408 - val_accuracy: 0.6260\n",
            "Epoch 10/200\n",
            "25/25 [==============================] - 0s 3ms/step - loss: 0.6207 - accuracy: 0.6680 - val_loss: 0.6369 - val_accuracy: 0.6260\n",
            "Epoch 11/200\n",
            "25/25 [==============================] - 0s 4ms/step - loss: 0.6181 - accuracy: 0.6680 - val_loss: 0.6360 - val_accuracy: 0.6260\n",
            "Epoch 12/200\n",
            "25/25 [==============================] - 0s 3ms/step - loss: 0.6162 - accuracy: 0.6680 - val_loss: 0.6333 - val_accuracy: 0.6260\n",
            "Epoch 13/200\n",
            "25/25 [==============================] - 0s 3ms/step - loss: 0.6134 - accuracy: 0.6680 - val_loss: 0.6310 - val_accuracy: 0.6260\n",
            "Epoch 14/200\n",
            "25/25 [==============================] - 0s 3ms/step - loss: 0.6119 - accuracy: 0.6680 - val_loss: 0.6287 - val_accuracy: 0.6260\n",
            "Epoch 15/200\n",
            "25/25 [==============================] - 0s 3ms/step - loss: 0.6091 - accuracy: 0.6680 - val_loss: 0.6257 - val_accuracy: 0.6260\n",
            "Epoch 16/200\n",
            "25/25 [==============================] - 0s 3ms/step - loss: 0.6066 - accuracy: 0.6680 - val_loss: 0.6230 - val_accuracy: 0.6260\n",
            "Epoch 17/200\n",
            "25/25 [==============================] - 0s 3ms/step - loss: 0.6044 - accuracy: 0.6680 - val_loss: 0.6213 - val_accuracy: 0.6260\n",
            "Epoch 18/200\n",
            "25/25 [==============================] - 0s 3ms/step - loss: 0.6014 - accuracy: 0.6680 - val_loss: 0.6172 - val_accuracy: 0.6260\n",
            "Epoch 19/200\n",
            "25/25 [==============================] - 0s 3ms/step - loss: 0.5988 - accuracy: 0.6680 - val_loss: 0.6136 - val_accuracy: 0.6260\n",
            "Epoch 20/200\n",
            "25/25 [==============================] - 0s 3ms/step - loss: 0.5955 - accuracy: 0.6680 - val_loss: 0.6113 - val_accuracy: 0.6260\n",
            "Epoch 21/200\n",
            "25/25 [==============================] - 0s 3ms/step - loss: 0.5931 - accuracy: 0.6680 - val_loss: 0.6099 - val_accuracy: 0.6260\n",
            "Epoch 22/200\n",
            "25/25 [==============================] - 0s 3ms/step - loss: 0.5902 - accuracy: 0.6680 - val_loss: 0.6057 - val_accuracy: 0.6260\n",
            "Epoch 23/200\n",
            "25/25 [==============================] - 0s 3ms/step - loss: 0.5869 - accuracy: 0.6680 - val_loss: 0.6040 - val_accuracy: 0.6260\n",
            "Epoch 24/200\n",
            "25/25 [==============================] - 0s 3ms/step - loss: 0.5841 - accuracy: 0.6680 - val_loss: 0.6010 - val_accuracy: 0.6260\n",
            "Epoch 25/200\n",
            "25/25 [==============================] - 0s 3ms/step - loss: 0.5815 - accuracy: 0.6680 - val_loss: 0.5983 - val_accuracy: 0.6260\n",
            "Epoch 26/200\n",
            "25/25 [==============================] - 0s 3ms/step - loss: 0.5785 - accuracy: 0.6680 - val_loss: 0.5955 - val_accuracy: 0.6260\n",
            "Epoch 27/200\n",
            "25/25 [==============================] - 0s 3ms/step - loss: 0.5754 - accuracy: 0.6680 - val_loss: 0.5931 - val_accuracy: 0.6260\n",
            "Epoch 28/200\n",
            "25/25 [==============================] - 0s 3ms/step - loss: 0.5713 - accuracy: 0.6680 - val_loss: 0.5940 - val_accuracy: 0.6260\n",
            "Epoch 29/200\n",
            "25/25 [==============================] - 0s 3ms/step - loss: 0.5710 - accuracy: 0.6680 - val_loss: 0.5882 - val_accuracy: 0.6260\n",
            "Epoch 30/200\n",
            "25/25 [==============================] - 0s 3ms/step - loss: 0.5669 - accuracy: 0.6680 - val_loss: 0.5862 - val_accuracy: 0.6260\n",
            "Epoch 31/200\n",
            "25/25 [==============================] - 0s 3ms/step - loss: 0.5648 - accuracy: 0.6680 - val_loss: 0.5825 - val_accuracy: 0.6260\n",
            "Epoch 32/200\n",
            "25/25 [==============================] - 0s 3ms/step - loss: 0.5614 - accuracy: 0.6680 - val_loss: 0.5803 - val_accuracy: 0.6260\n",
            "Epoch 33/200\n",
            "25/25 [==============================] - 0s 3ms/step - loss: 0.5573 - accuracy: 0.6680 - val_loss: 0.5829 - val_accuracy: 0.6260\n",
            "Epoch 34/200\n",
            "25/25 [==============================] - 0s 3ms/step - loss: 0.5573 - accuracy: 0.6680 - val_loss: 0.5763 - val_accuracy: 0.6260\n",
            "Epoch 35/200\n",
            "25/25 [==============================] - 0s 3ms/step - loss: 0.5525 - accuracy: 0.6680 - val_loss: 0.5777 - val_accuracy: 0.6260\n",
            "Epoch 36/200\n",
            "25/25 [==============================] - 0s 3ms/step - loss: 0.5529 - accuracy: 0.6680 - val_loss: 0.5712 - val_accuracy: 0.6260\n",
            "Epoch 37/200\n",
            "25/25 [==============================] - 0s 3ms/step - loss: 0.5477 - accuracy: 0.6680 - val_loss: 0.5684 - val_accuracy: 0.6260\n",
            "Epoch 38/200\n",
            "25/25 [==============================] - 0s 3ms/step - loss: 0.5453 - accuracy: 0.6680 - val_loss: 0.5662 - val_accuracy: 0.6260\n",
            "Epoch 39/200\n",
            "25/25 [==============================] - 0s 3ms/step - loss: 0.5424 - accuracy: 0.6680 - val_loss: 0.5648 - val_accuracy: 0.6260\n",
            "Epoch 40/200\n",
            "25/25 [==============================] - 0s 3ms/step - loss: 0.5408 - accuracy: 0.6680 - val_loss: 0.5617 - val_accuracy: 0.6260\n",
            "Epoch 41/200\n",
            "25/25 [==============================] - 0s 3ms/step - loss: 0.5372 - accuracy: 0.6680 - val_loss: 0.5606 - val_accuracy: 0.6260\n",
            "Epoch 42/200\n",
            "25/25 [==============================] - 0s 3ms/step - loss: 0.5357 - accuracy: 0.6680 - val_loss: 0.5585 - val_accuracy: 0.6260\n",
            "Epoch 43/200\n",
            "25/25 [==============================] - 0s 3ms/step - loss: 0.5342 - accuracy: 0.6680 - val_loss: 0.5582 - val_accuracy: 0.6260\n",
            "Epoch 44/200\n",
            "25/25 [==============================] - 0s 3ms/step - loss: 0.5283 - accuracy: 0.6782 - val_loss: 0.5563 - val_accuracy: 0.7642\n",
            "Epoch 45/200\n",
            "25/25 [==============================] - 0s 4ms/step - loss: 0.5289 - accuracy: 0.7393 - val_loss: 0.5503 - val_accuracy: 0.7561\n",
            "Epoch 46/200\n",
            "25/25 [==============================] - 0s 3ms/step - loss: 0.5272 - accuracy: 0.7413 - val_loss: 0.5481 - val_accuracy: 0.7724\n",
            "Epoch 47/200\n",
            "25/25 [==============================] - 0s 3ms/step - loss: 0.5223 - accuracy: 0.7393 - val_loss: 0.5471 - val_accuracy: 0.7724\n",
            "Epoch 48/200\n",
            "25/25 [==============================] - 0s 3ms/step - loss: 0.5208 - accuracy: 0.7556 - val_loss: 0.5444 - val_accuracy: 0.7642\n",
            "Epoch 49/200\n",
            "25/25 [==============================] - 0s 3ms/step - loss: 0.5182 - accuracy: 0.7495 - val_loss: 0.5420 - val_accuracy: 0.7642\n",
            "Epoch 50/200\n",
            "25/25 [==============================] - 0s 3ms/step - loss: 0.5168 - accuracy: 0.7434 - val_loss: 0.5402 - val_accuracy: 0.7642\n",
            "Epoch 51/200\n",
            "25/25 [==============================] - 0s 3ms/step - loss: 0.5158 - accuracy: 0.7475 - val_loss: 0.5380 - val_accuracy: 0.7561\n",
            "Epoch 52/200\n",
            "25/25 [==============================] - 0s 3ms/step - loss: 0.5136 - accuracy: 0.7536 - val_loss: 0.5366 - val_accuracy: 0.7561\n",
            "Epoch 53/200\n",
            "25/25 [==============================] - 0s 3ms/step - loss: 0.5099 - accuracy: 0.7495 - val_loss: 0.5357 - val_accuracy: 0.7642\n",
            "Epoch 54/200\n",
            "25/25 [==============================] - 0s 3ms/step - loss: 0.5086 - accuracy: 0.7597 - val_loss: 0.5334 - val_accuracy: 0.7642\n",
            "Epoch 55/200\n",
            "25/25 [==============================] - 0s 3ms/step - loss: 0.5076 - accuracy: 0.7637 - val_loss: 0.5318 - val_accuracy: 0.7642\n",
            "Epoch 56/200\n",
            "25/25 [==============================] - 0s 3ms/step - loss: 0.5060 - accuracy: 0.7495 - val_loss: 0.5289 - val_accuracy: 0.7642\n",
            "Epoch 57/200\n",
            "25/25 [==============================] - 0s 3ms/step - loss: 0.5041 - accuracy: 0.7475 - val_loss: 0.5280 - val_accuracy: 0.7398\n",
            "Epoch 58/200\n",
            "25/25 [==============================] - 0s 3ms/step - loss: 0.5022 - accuracy: 0.7637 - val_loss: 0.5252 - val_accuracy: 0.7642\n",
            "Epoch 59/200\n",
            "25/25 [==============================] - 0s 3ms/step - loss: 0.5009 - accuracy: 0.7597 - val_loss: 0.5243 - val_accuracy: 0.7398\n",
            "Epoch 60/200\n",
            "25/25 [==============================] - 0s 3ms/step - loss: 0.4986 - accuracy: 0.7597 - val_loss: 0.5289 - val_accuracy: 0.7561\n",
            "Epoch 61/200\n",
            "25/25 [==============================] - 0s 3ms/step - loss: 0.5004 - accuracy: 0.7515 - val_loss: 0.5211 - val_accuracy: 0.7561\n",
            "Epoch 62/200\n",
            "25/25 [==============================] - 0s 3ms/step - loss: 0.4942 - accuracy: 0.7658 - val_loss: 0.5264 - val_accuracy: 0.7724\n",
            "Epoch 63/200\n",
            "25/25 [==============================] - 0s 4ms/step - loss: 0.4958 - accuracy: 0.7597 - val_loss: 0.5185 - val_accuracy: 0.7642\n",
            "Epoch 64/200\n",
            "25/25 [==============================] - 0s 3ms/step - loss: 0.4937 - accuracy: 0.7617 - val_loss: 0.5177 - val_accuracy: 0.7642\n",
            "Epoch 65/200\n",
            "25/25 [==============================] - 0s 3ms/step - loss: 0.4917 - accuracy: 0.7576 - val_loss: 0.5145 - val_accuracy: 0.7480\n",
            "Epoch 66/200\n",
            "25/25 [==============================] - 0s 3ms/step - loss: 0.4892 - accuracy: 0.7617 - val_loss: 0.5125 - val_accuracy: 0.7642\n",
            "Epoch 67/200\n",
            "25/25 [==============================] - 0s 3ms/step - loss: 0.4908 - accuracy: 0.7658 - val_loss: 0.5117 - val_accuracy: 0.7724\n",
            "Epoch 68/200\n",
            "25/25 [==============================] - 0s 3ms/step - loss: 0.4900 - accuracy: 0.7576 - val_loss: 0.5093 - val_accuracy: 0.7642\n",
            "Epoch 69/200\n",
            "25/25 [==============================] - 0s 4ms/step - loss: 0.4880 - accuracy: 0.7576 - val_loss: 0.5075 - val_accuracy: 0.7642\n",
            "Epoch 70/200\n",
            "25/25 [==============================] - 0s 3ms/step - loss: 0.4899 - accuracy: 0.7617 - val_loss: 0.5067 - val_accuracy: 0.7642\n",
            "Epoch 71/200\n",
            "25/25 [==============================] - 0s 3ms/step - loss: 0.4867 - accuracy: 0.7699 - val_loss: 0.5092 - val_accuracy: 0.7805\n",
            "Epoch 72/200\n",
            "25/25 [==============================] - 0s 3ms/step - loss: 0.4844 - accuracy: 0.7617 - val_loss: 0.5052 - val_accuracy: 0.7642\n",
            "Epoch 73/200\n",
            "25/25 [==============================] - 0s 3ms/step - loss: 0.4853 - accuracy: 0.7597 - val_loss: 0.5051 - val_accuracy: 0.7642\n",
            "Epoch 74/200\n",
            "25/25 [==============================] - 0s 3ms/step - loss: 0.4860 - accuracy: 0.7617 - val_loss: 0.5035 - val_accuracy: 0.7642\n",
            "Epoch 75/200\n",
            "25/25 [==============================] - 0s 3ms/step - loss: 0.4798 - accuracy: 0.7637 - val_loss: 0.5082 - val_accuracy: 0.7642\n",
            "Epoch 76/200\n",
            "25/25 [==============================] - 0s 3ms/step - loss: 0.4820 - accuracy: 0.7678 - val_loss: 0.5045 - val_accuracy: 0.7642\n",
            "Epoch 77/200\n",
            "25/25 [==============================] - 0s 3ms/step - loss: 0.4777 - accuracy: 0.7780 - val_loss: 0.5061 - val_accuracy: 0.7642\n",
            "Epoch 78/200\n",
            "25/25 [==============================] - 0s 3ms/step - loss: 0.4828 - accuracy: 0.7597 - val_loss: 0.5015 - val_accuracy: 0.7724\n",
            "Epoch 79/200\n",
            "25/25 [==============================] - 0s 3ms/step - loss: 0.4765 - accuracy: 0.7760 - val_loss: 0.5028 - val_accuracy: 0.7642\n",
            "Epoch 80/200\n",
            "25/25 [==============================] - 0s 3ms/step - loss: 0.4790 - accuracy: 0.7699 - val_loss: 0.4985 - val_accuracy: 0.7642\n",
            "Epoch 81/200\n",
            "25/25 [==============================] - 0s 3ms/step - loss: 0.4751 - accuracy: 0.7556 - val_loss: 0.4987 - val_accuracy: 0.7805\n",
            "Epoch 82/200\n",
            "25/25 [==============================] - 0s 3ms/step - loss: 0.4774 - accuracy: 0.7699 - val_loss: 0.4965 - val_accuracy: 0.7561\n",
            "Epoch 83/200\n",
            "25/25 [==============================] - 0s 3ms/step - loss: 0.4772 - accuracy: 0.7699 - val_loss: 0.4952 - val_accuracy: 0.7480\n",
            "Epoch 84/200\n",
            "25/25 [==============================] - 0s 3ms/step - loss: 0.4756 - accuracy: 0.7699 - val_loss: 0.4939 - val_accuracy: 0.7480\n",
            "Epoch 85/200\n",
            "25/25 [==============================] - 0s 3ms/step - loss: 0.4737 - accuracy: 0.7658 - val_loss: 0.5014 - val_accuracy: 0.7724\n",
            "Epoch 86/200\n",
            "25/25 [==============================] - 0s 3ms/step - loss: 0.4747 - accuracy: 0.7637 - val_loss: 0.5031 - val_accuracy: 0.7724\n",
            "Epoch 87/200\n",
            "25/25 [==============================] - 0s 3ms/step - loss: 0.4763 - accuracy: 0.7760 - val_loss: 0.4926 - val_accuracy: 0.7805\n",
            "Epoch 88/200\n",
            "25/25 [==============================] - 0s 3ms/step - loss: 0.4732 - accuracy: 0.7780 - val_loss: 0.4937 - val_accuracy: 0.7724\n",
            "Epoch 89/200\n",
            "25/25 [==============================] - 0s 3ms/step - loss: 0.4763 - accuracy: 0.7780 - val_loss: 0.4938 - val_accuracy: 0.7724\n",
            "Epoch 90/200\n",
            "25/25 [==============================] - 0s 3ms/step - loss: 0.4745 - accuracy: 0.7699 - val_loss: 0.4912 - val_accuracy: 0.7480\n",
            "Epoch 91/200\n",
            "25/25 [==============================] - 0s 3ms/step - loss: 0.4713 - accuracy: 0.7678 - val_loss: 0.4920 - val_accuracy: 0.7724\n",
            "Epoch 92/200\n",
            "25/25 [==============================] - 0s 3ms/step - loss: 0.4691 - accuracy: 0.7699 - val_loss: 0.4960 - val_accuracy: 0.7724\n",
            "Epoch 93/200\n",
            "25/25 [==============================] - 0s 3ms/step - loss: 0.4733 - accuracy: 0.7699 - val_loss: 0.4909 - val_accuracy: 0.7642\n",
            "Epoch 94/200\n",
            "25/25 [==============================] - 0s 3ms/step - loss: 0.4724 - accuracy: 0.7658 - val_loss: 0.4951 - val_accuracy: 0.7724\n",
            "Epoch 95/200\n",
            "25/25 [==============================] - 0s 3ms/step - loss: 0.4717 - accuracy: 0.7699 - val_loss: 0.4879 - val_accuracy: 0.7642\n",
            "Epoch 96/200\n",
            "25/25 [==============================] - 0s 3ms/step - loss: 0.4722 - accuracy: 0.7699 - val_loss: 0.4885 - val_accuracy: 0.7805\n",
            "Epoch 97/200\n",
            "25/25 [==============================] - 0s 3ms/step - loss: 0.4685 - accuracy: 0.7719 - val_loss: 0.4922 - val_accuracy: 0.7724\n",
            "Epoch 98/200\n",
            "25/25 [==============================] - 0s 3ms/step - loss: 0.4656 - accuracy: 0.7658 - val_loss: 0.4898 - val_accuracy: 0.7805\n",
            "Epoch 99/200\n",
            "25/25 [==============================] - 0s 3ms/step - loss: 0.4673 - accuracy: 0.7699 - val_loss: 0.4976 - val_accuracy: 0.7724\n",
            "Epoch 100/200\n",
            "25/25 [==============================] - 0s 3ms/step - loss: 0.4747 - accuracy: 0.7678 - val_loss: 0.4899 - val_accuracy: 0.7805\n",
            "Epoch 101/200\n",
            "25/25 [==============================] - 0s 3ms/step - loss: 0.4692 - accuracy: 0.7739 - val_loss: 0.4858 - val_accuracy: 0.7561\n",
            "Epoch 102/200\n",
            "25/25 [==============================] - 0s 3ms/step - loss: 0.4661 - accuracy: 0.7658 - val_loss: 0.4979 - val_accuracy: 0.7724\n",
            "Epoch 103/200\n",
            "25/25 [==============================] - 0s 3ms/step - loss: 0.4696 - accuracy: 0.7699 - val_loss: 0.4887 - val_accuracy: 0.7805\n",
            "Epoch 104/200\n",
            "25/25 [==============================] - 0s 3ms/step - loss: 0.4687 - accuracy: 0.7678 - val_loss: 0.4859 - val_accuracy: 0.7642\n",
            "Epoch 105/200\n",
            "25/25 [==============================] - 0s 3ms/step - loss: 0.4685 - accuracy: 0.7760 - val_loss: 0.4818 - val_accuracy: 0.7480\n",
            "Epoch 106/200\n",
            "25/25 [==============================] - 0s 4ms/step - loss: 0.4660 - accuracy: 0.7658 - val_loss: 0.4819 - val_accuracy: 0.7561\n",
            "Epoch 107/200\n",
            "25/25 [==============================] - 0s 4ms/step - loss: 0.4664 - accuracy: 0.7658 - val_loss: 0.4834 - val_accuracy: 0.7805\n",
            "Epoch 108/200\n",
            "25/25 [==============================] - 0s 3ms/step - loss: 0.4620 - accuracy: 0.7821 - val_loss: 0.4848 - val_accuracy: 0.7805\n",
            "Epoch 109/200\n",
            "25/25 [==============================] - 0s 3ms/step - loss: 0.4697 - accuracy: 0.7699 - val_loss: 0.4856 - val_accuracy: 0.7561\n",
            "Epoch 110/200\n",
            "25/25 [==============================] - 0s 4ms/step - loss: 0.4640 - accuracy: 0.7617 - val_loss: 0.4839 - val_accuracy: 0.7561\n",
            "Epoch 111/200\n",
            "25/25 [==============================] - 0s 3ms/step - loss: 0.4705 - accuracy: 0.7739 - val_loss: 0.4900 - val_accuracy: 0.7724\n",
            "Epoch 112/200\n",
            "25/25 [==============================] - 0s 3ms/step - loss: 0.4651 - accuracy: 0.7576 - val_loss: 0.4844 - val_accuracy: 0.7561\n",
            "Epoch 113/200\n",
            "25/25 [==============================] - 0s 3ms/step - loss: 0.4647 - accuracy: 0.7780 - val_loss: 0.4860 - val_accuracy: 0.7642\n",
            "Epoch 114/200\n",
            "25/25 [==============================] - 0s 3ms/step - loss: 0.4649 - accuracy: 0.7658 - val_loss: 0.4832 - val_accuracy: 0.7561\n",
            "Epoch 115/200\n",
            "25/25 [==============================] - 0s 3ms/step - loss: 0.4638 - accuracy: 0.7760 - val_loss: 0.4828 - val_accuracy: 0.7561\n",
            "Epoch 116/200\n",
            "25/25 [==============================] - 0s 3ms/step - loss: 0.4625 - accuracy: 0.7760 - val_loss: 0.4848 - val_accuracy: 0.7805\n",
            "Epoch 117/200\n",
            "25/25 [==============================] - 0s 3ms/step - loss: 0.4659 - accuracy: 0.7699 - val_loss: 0.4861 - val_accuracy: 0.7886\n",
            "Epoch 118/200\n",
            "25/25 [==============================] - 0s 3ms/step - loss: 0.4637 - accuracy: 0.7780 - val_loss: 0.4843 - val_accuracy: 0.7561\n",
            "Epoch 119/200\n",
            "25/25 [==============================] - 0s 3ms/step - loss: 0.4642 - accuracy: 0.7760 - val_loss: 0.4805 - val_accuracy: 0.7642\n",
            "Epoch 120/200\n",
            "25/25 [==============================] - 0s 3ms/step - loss: 0.4650 - accuracy: 0.7760 - val_loss: 0.4836 - val_accuracy: 0.7642\n",
            "Epoch 121/200\n",
            "25/25 [==============================] - 0s 3ms/step - loss: 0.4639 - accuracy: 0.7678 - val_loss: 0.4892 - val_accuracy: 0.7724\n",
            "Epoch 122/200\n",
            "25/25 [==============================] - 0s 3ms/step - loss: 0.4633 - accuracy: 0.7658 - val_loss: 0.4958 - val_accuracy: 0.7724\n",
            "Epoch 123/200\n",
            "25/25 [==============================] - 0s 3ms/step - loss: 0.4690 - accuracy: 0.7739 - val_loss: 0.4838 - val_accuracy: 0.7724\n",
            "Epoch 124/200\n",
            "25/25 [==============================] - 0s 3ms/step - loss: 0.4641 - accuracy: 0.7739 - val_loss: 0.4804 - val_accuracy: 0.7642\n",
            "Epoch 125/200\n",
            "25/25 [==============================] - 0s 3ms/step - loss: 0.4671 - accuracy: 0.7658 - val_loss: 0.4782 - val_accuracy: 0.7642\n",
            "Epoch 126/200\n",
            "25/25 [==============================] - 0s 3ms/step - loss: 0.4619 - accuracy: 0.7800 - val_loss: 0.4784 - val_accuracy: 0.7642\n",
            "Epoch 127/200\n",
            "25/25 [==============================] - 0s 3ms/step - loss: 0.4649 - accuracy: 0.7739 - val_loss: 0.4793 - val_accuracy: 0.7805\n",
            "Epoch 128/200\n",
            "25/25 [==============================] - 0s 3ms/step - loss: 0.4630 - accuracy: 0.7760 - val_loss: 0.4780 - val_accuracy: 0.7724\n",
            "Epoch 129/200\n",
            "25/25 [==============================] - 0s 3ms/step - loss: 0.4636 - accuracy: 0.7821 - val_loss: 0.4781 - val_accuracy: 0.7724\n",
            "Epoch 130/200\n",
            "25/25 [==============================] - 0s 4ms/step - loss: 0.4611 - accuracy: 0.7739 - val_loss: 0.5120 - val_accuracy: 0.7967\n",
            "Epoch 131/200\n",
            "25/25 [==============================] - 0s 4ms/step - loss: 0.4647 - accuracy: 0.7699 - val_loss: 0.4763 - val_accuracy: 0.7561\n",
            "Epoch 132/200\n",
            "25/25 [==============================] - 0s 3ms/step - loss: 0.4686 - accuracy: 0.7739 - val_loss: 0.4864 - val_accuracy: 0.7805\n",
            "Epoch 133/200\n",
            "25/25 [==============================] - 0s 3ms/step - loss: 0.4652 - accuracy: 0.7678 - val_loss: 0.4775 - val_accuracy: 0.7561\n",
            "Epoch 134/200\n",
            "25/25 [==============================] - 0s 3ms/step - loss: 0.4640 - accuracy: 0.7780 - val_loss: 0.4779 - val_accuracy: 0.7561\n",
            "Epoch 135/200\n",
            "25/25 [==============================] - 0s 3ms/step - loss: 0.4605 - accuracy: 0.7739 - val_loss: 0.4978 - val_accuracy: 0.7967\n",
            "Epoch 136/200\n",
            "25/25 [==============================] - 0s 4ms/step - loss: 0.4638 - accuracy: 0.7699 - val_loss: 0.5036 - val_accuracy: 0.7967\n",
            "Epoch 137/200\n",
            "25/25 [==============================] - 0s 3ms/step - loss: 0.4669 - accuracy: 0.7617 - val_loss: 0.4751 - val_accuracy: 0.7642\n",
            "Epoch 138/200\n",
            "25/25 [==============================] - 0s 3ms/step - loss: 0.4625 - accuracy: 0.7617 - val_loss: 0.4772 - val_accuracy: 0.7724\n",
            "Epoch 139/200\n",
            "25/25 [==============================] - 0s 3ms/step - loss: 0.4615 - accuracy: 0.7678 - val_loss: 0.4973 - val_accuracy: 0.8049\n",
            "Epoch 140/200\n",
            "25/25 [==============================] - 0s 3ms/step - loss: 0.4596 - accuracy: 0.7882 - val_loss: 0.4785 - val_accuracy: 0.7724\n",
            "Epoch 141/200\n",
            "25/25 [==============================] - 0s 4ms/step - loss: 0.4593 - accuracy: 0.7739 - val_loss: 0.4798 - val_accuracy: 0.7724\n",
            "Epoch 142/200\n",
            "25/25 [==============================] - 0s 3ms/step - loss: 0.4635 - accuracy: 0.7699 - val_loss: 0.4777 - val_accuracy: 0.7561\n",
            "Epoch 143/200\n",
            "25/25 [==============================] - 0s 3ms/step - loss: 0.4591 - accuracy: 0.7841 - val_loss: 0.4889 - val_accuracy: 0.7724\n",
            "Epoch 144/200\n",
            "25/25 [==============================] - 0s 3ms/step - loss: 0.4634 - accuracy: 0.7760 - val_loss: 0.4911 - val_accuracy: 0.7724\n",
            "Epoch 145/200\n",
            "25/25 [==============================] - 0s 3ms/step - loss: 0.4596 - accuracy: 0.7719 - val_loss: 0.4785 - val_accuracy: 0.7642\n",
            "Epoch 146/200\n",
            "25/25 [==============================] - 0s 3ms/step - loss: 0.4611 - accuracy: 0.7719 - val_loss: 0.4751 - val_accuracy: 0.7642\n",
            "Epoch 147/200\n",
            "25/25 [==============================] - 0s 3ms/step - loss: 0.4630 - accuracy: 0.7780 - val_loss: 0.4801 - val_accuracy: 0.7805\n",
            "Epoch 148/200\n",
            "25/25 [==============================] - 0s 3ms/step - loss: 0.4587 - accuracy: 0.7699 - val_loss: 0.4754 - val_accuracy: 0.7642\n",
            "Epoch 149/200\n",
            "25/25 [==============================] - 0s 3ms/step - loss: 0.4597 - accuracy: 0.7780 - val_loss: 0.4773 - val_accuracy: 0.7561\n",
            "Epoch 150/200\n",
            "25/25 [==============================] - 0s 3ms/step - loss: 0.4600 - accuracy: 0.7719 - val_loss: 0.4777 - val_accuracy: 0.7642\n",
            "Epoch 151/200\n",
            "25/25 [==============================] - 0s 3ms/step - loss: 0.4625 - accuracy: 0.7658 - val_loss: 0.4811 - val_accuracy: 0.7724\n",
            "Epoch 152/200\n",
            "25/25 [==============================] - 0s 3ms/step - loss: 0.4620 - accuracy: 0.7719 - val_loss: 0.4764 - val_accuracy: 0.7642\n",
            "Epoch 153/200\n",
            "25/25 [==============================] - 0s 3ms/step - loss: 0.4596 - accuracy: 0.7678 - val_loss: 0.4760 - val_accuracy: 0.7561\n",
            "Epoch 154/200\n",
            "25/25 [==============================] - 0s 3ms/step - loss: 0.4581 - accuracy: 0.7780 - val_loss: 0.4763 - val_accuracy: 0.7561\n",
            "Epoch 155/200\n",
            "25/25 [==============================] - 0s 3ms/step - loss: 0.4611 - accuracy: 0.7780 - val_loss: 0.4800 - val_accuracy: 0.7805\n",
            "Epoch 156/200\n",
            "25/25 [==============================] - 0s 3ms/step - loss: 0.4582 - accuracy: 0.7800 - val_loss: 0.4764 - val_accuracy: 0.7724\n",
            "Epoch 157/200\n",
            "25/25 [==============================] - 0s 3ms/step - loss: 0.4597 - accuracy: 0.7699 - val_loss: 0.4889 - val_accuracy: 0.7805\n",
            "Epoch 158/200\n",
            "25/25 [==============================] - 0s 3ms/step - loss: 0.4624 - accuracy: 0.7780 - val_loss: 0.4762 - val_accuracy: 0.7642\n",
            "Epoch 159/200\n",
            "25/25 [==============================] - 0s 3ms/step - loss: 0.4586 - accuracy: 0.7760 - val_loss: 0.4778 - val_accuracy: 0.7724\n",
            "Epoch 160/200\n",
            "25/25 [==============================] - 0s 3ms/step - loss: 0.4575 - accuracy: 0.7800 - val_loss: 0.4808 - val_accuracy: 0.7642\n",
            "Epoch 161/200\n",
            "25/25 [==============================] - 0s 3ms/step - loss: 0.4610 - accuracy: 0.7658 - val_loss: 0.4779 - val_accuracy: 0.7642\n",
            "Epoch 162/200\n",
            "25/25 [==============================] - 0s 3ms/step - loss: 0.4602 - accuracy: 0.7719 - val_loss: 0.4761 - val_accuracy: 0.7724\n",
            "Epoch 163/200\n",
            "25/25 [==============================] - 0s 3ms/step - loss: 0.4583 - accuracy: 0.7719 - val_loss: 0.4747 - val_accuracy: 0.7724\n",
            "Epoch 164/200\n",
            "25/25 [==============================] - 0s 3ms/step - loss: 0.4567 - accuracy: 0.7780 - val_loss: 0.4729 - val_accuracy: 0.7642\n",
            "Epoch 165/200\n",
            "25/25 [==============================] - 0s 3ms/step - loss: 0.4531 - accuracy: 0.7923 - val_loss: 0.4750 - val_accuracy: 0.7805\n",
            "Epoch 166/200\n",
            "25/25 [==============================] - 0s 3ms/step - loss: 0.4551 - accuracy: 0.7719 - val_loss: 0.4703 - val_accuracy: 0.7724\n",
            "Epoch 167/200\n",
            "25/25 [==============================] - 0s 3ms/step - loss: 0.4578 - accuracy: 0.7800 - val_loss: 0.4692 - val_accuracy: 0.7724\n",
            "Epoch 168/200\n",
            "25/25 [==============================] - 0s 3ms/step - loss: 0.4558 - accuracy: 0.7739 - val_loss: 0.4719 - val_accuracy: 0.7724\n",
            "Epoch 169/200\n",
            "25/25 [==============================] - 0s 3ms/step - loss: 0.4548 - accuracy: 0.7800 - val_loss: 0.4792 - val_accuracy: 0.7724\n",
            "Epoch 170/200\n",
            "25/25 [==============================] - 0s 3ms/step - loss: 0.4596 - accuracy: 0.7658 - val_loss: 0.4745 - val_accuracy: 0.7561\n",
            "Epoch 171/200\n",
            "25/25 [==============================] - 0s 3ms/step - loss: 0.4513 - accuracy: 0.7841 - val_loss: 0.5218 - val_accuracy: 0.7967\n",
            "Epoch 172/200\n",
            "25/25 [==============================] - 0s 3ms/step - loss: 0.4602 - accuracy: 0.7760 - val_loss: 0.4701 - val_accuracy: 0.7724\n",
            "Epoch 173/200\n",
            "25/25 [==============================] - 0s 3ms/step - loss: 0.4583 - accuracy: 0.7719 - val_loss: 0.4713 - val_accuracy: 0.7642\n",
            "Epoch 174/200\n",
            "25/25 [==============================] - 0s 3ms/step - loss: 0.4562 - accuracy: 0.7760 - val_loss: 0.4839 - val_accuracy: 0.7967\n",
            "Epoch 175/200\n",
            "25/25 [==============================] - 0s 3ms/step - loss: 0.4600 - accuracy: 0.7760 - val_loss: 0.4734 - val_accuracy: 0.7724\n",
            "Epoch 176/200\n",
            "25/25 [==============================] - 0s 3ms/step - loss: 0.4543 - accuracy: 0.7739 - val_loss: 0.4884 - val_accuracy: 0.7886\n",
            "Epoch 177/200\n",
            "25/25 [==============================] - 0s 3ms/step - loss: 0.4596 - accuracy: 0.7760 - val_loss: 0.4751 - val_accuracy: 0.7642\n",
            "Epoch 178/200\n",
            "25/25 [==============================] - 0s 3ms/step - loss: 0.4605 - accuracy: 0.7780 - val_loss: 0.4775 - val_accuracy: 0.7724\n",
            "Epoch 179/200\n",
            "25/25 [==============================] - 0s 3ms/step - loss: 0.4562 - accuracy: 0.7780 - val_loss: 0.4775 - val_accuracy: 0.7724\n",
            "Epoch 180/200\n",
            "25/25 [==============================] - 0s 4ms/step - loss: 0.4577 - accuracy: 0.7760 - val_loss: 0.4794 - val_accuracy: 0.7642\n",
            "Epoch 181/200\n",
            "25/25 [==============================] - 0s 3ms/step - loss: 0.4565 - accuracy: 0.7719 - val_loss: 0.4765 - val_accuracy: 0.7642\n",
            "Epoch 182/200\n",
            "25/25 [==============================] - 0s 3ms/step - loss: 0.4567 - accuracy: 0.7719 - val_loss: 0.4731 - val_accuracy: 0.7642\n",
            "Epoch 183/200\n",
            "25/25 [==============================] - 0s 3ms/step - loss: 0.4559 - accuracy: 0.7780 - val_loss: 0.4745 - val_accuracy: 0.7642\n",
            "Epoch 184/200\n",
            "25/25 [==============================] - 0s 3ms/step - loss: 0.4555 - accuracy: 0.7699 - val_loss: 0.4725 - val_accuracy: 0.7724\n",
            "Epoch 185/200\n",
            "25/25 [==============================] - 0s 3ms/step - loss: 0.4632 - accuracy: 0.7576 - val_loss: 0.4924 - val_accuracy: 0.7886\n",
            "Epoch 186/200\n",
            "25/25 [==============================] - 0s 3ms/step - loss: 0.4612 - accuracy: 0.7699 - val_loss: 0.4749 - val_accuracy: 0.7724\n",
            "Epoch 187/200\n",
            "25/25 [==============================] - 0s 3ms/step - loss: 0.4587 - accuracy: 0.7841 - val_loss: 0.4753 - val_accuracy: 0.7724\n",
            "Epoch 188/200\n",
            "25/25 [==============================] - 0s 3ms/step - loss: 0.4578 - accuracy: 0.7739 - val_loss: 0.4696 - val_accuracy: 0.7805\n",
            "Epoch 189/200\n",
            "25/25 [==============================] - 0s 3ms/step - loss: 0.4575 - accuracy: 0.7841 - val_loss: 0.4711 - val_accuracy: 0.7724\n",
            "Epoch 190/200\n",
            "25/25 [==============================] - 0s 3ms/step - loss: 0.4569 - accuracy: 0.7800 - val_loss: 0.4772 - val_accuracy: 0.7642\n",
            "Epoch 191/200\n",
            "25/25 [==============================] - 0s 4ms/step - loss: 0.4551 - accuracy: 0.7780 - val_loss: 0.4744 - val_accuracy: 0.7724\n",
            "Epoch 192/200\n",
            "25/25 [==============================] - 0s 3ms/step - loss: 0.4533 - accuracy: 0.7760 - val_loss: 0.4705 - val_accuracy: 0.7805\n",
            "Epoch 193/200\n",
            "25/25 [==============================] - 0s 3ms/step - loss: 0.4579 - accuracy: 0.7699 - val_loss: 0.4746 - val_accuracy: 0.7724\n",
            "Epoch 194/200\n",
            "25/25 [==============================] - 0s 3ms/step - loss: 0.4627 - accuracy: 0.7719 - val_loss: 0.4773 - val_accuracy: 0.7561\n",
            "Epoch 195/200\n",
            "25/25 [==============================] - 0s 3ms/step - loss: 0.4467 - accuracy: 0.7862 - val_loss: 0.5197 - val_accuracy: 0.7967\n",
            "Epoch 196/200\n",
            "25/25 [==============================] - 0s 3ms/step - loss: 0.4638 - accuracy: 0.7637 - val_loss: 0.4801 - val_accuracy: 0.7886\n",
            "Epoch 197/200\n",
            "25/25 [==============================] - 0s 3ms/step - loss: 0.4520 - accuracy: 0.7800 - val_loss: 0.4758 - val_accuracy: 0.7886\n",
            "Epoch 198/200\n",
            "25/25 [==============================] - 0s 3ms/step - loss: 0.4571 - accuracy: 0.7678 - val_loss: 0.4727 - val_accuracy: 0.7724\n",
            "Epoch 199/200\n",
            "25/25 [==============================] - 0s 3ms/step - loss: 0.4527 - accuracy: 0.7821 - val_loss: 0.5125 - val_accuracy: 0.7886\n",
            "Epoch 200/200\n",
            "25/25 [==============================] - 0s 3ms/step - loss: 0.4600 - accuracy: 0.7739 - val_loss: 0.4714 - val_accuracy: 0.7724\n"
          ]
        }
      ]
    },
    {
      "cell_type": "markdown",
      "metadata": {
        "id": "80o1i3fzZsA-"
      },
      "source": [
        "**11. Plot the training loss and accuracy**"
      ]
    },
    {
      "cell_type": "code",
      "source": [
        "import matplotlib.pyplot as plt \n",
        "acc = hist.history['accuracy']\n",
        "val_acc = hist.history['val_accuracy']\n",
        "loss = hist.history['loss']\n",
        "val_loss = hist.history['val_loss']\n",
        " \n",
        "epochs = range(len(acc))\n",
        " \n",
        "plt.plot(epochs, acc, 'b', label='Training acc')\n",
        "plt.plot(epochs, val_acc, 'r', label='Validation acc')\n",
        "plt.title('Training and validation accuracy')\n",
        "plt.legend()\n",
        "plt.savefig('custom_trainvalacc.png')\n",
        "plt.figure()\n",
        " \n",
        "plt.plot(epochs, loss, 'b', label='Training loss')\n",
        "plt.plot(epochs, val_loss, 'r', label='Validation loss')\n",
        "plt.title('Training and validation loss')\n",
        "plt.legend()\n",
        " \n",
        "#plt.show()\n",
        "plt.savefig('custom_trainvalloss.png')\n",
        "plt.figure()"
      ],
      "metadata": {
        "colab": {
          "base_uri": "https://localhost:8080/",
          "height": 580
        },
        "id": "69dOEi6HAiXT",
        "outputId": "3c8c39b6-c63a-4adc-dd43-86a54ea4144d"
      },
      "execution_count": 30,
      "outputs": [
        {
          "output_type": "execute_result",
          "data": {
            "text/plain": [
              "<Figure size 432x288 with 0 Axes>"
            ]
          },
          "metadata": {},
          "execution_count": 30
        },
        {
          "output_type": "display_data",
          "data": {
            "text/plain": [
              "<Figure size 432x288 with 1 Axes>"
            ],
            "image/png": "[encoded data removed]"
          },
          "metadata": {
            "needs_background": "light"
          }
        },
        {
          "output_type": "display_data",
          "data": {
            "text/plain": [
              "<Figure size 432x288 with 1 Axes>"
            ],
            "image/png": "[encoded data removed]"
          },
          "metadata": {
            "needs_background": "light"
          }
        },
        {
          "output_type": "display_data",
          "data": {
            "text/plain": [
              "<Figure size 432x288 with 0 Axes>"
            ]
          },
          "metadata": {}
        }
      ]
    },
    {
      "cell_type": "markdown",
      "metadata": {
        "id": "a8fUXoqeZvwf"
      },
      "source": [
        "**12. Evaluate the performance**"
      ]
    },
    {
      "cell_type": "code",
      "metadata": {
        "colab": {
          "base_uri": "https://localhost:8080/"
        },
        "id": "wawHhkURYMLE",
        "outputId": "b3a358fd-28f1-4625-e18b-f5d71839113f"
      },
      "source": [
        "res =model.evaluate(X_testing, Y_testing)"
      ],
      "execution_count": 15,
      "outputs": [
        {
          "output_type": "stream",
          "name": "stdout",
          "text": [
            "5/5 [==============================] - 0s 3ms/step - loss: 0.4999 - accuracy: 0.7403\n"
          ]
        }
      ]
    },
    {
      "cell_type": "markdown",
      "metadata": {
        "id": "0WCSw36oZyG_"
      },
      "source": [
        "**13. Predict on new datatset**\n"
      ]
    },
    {
      "cell_type": "code",
      "metadata": {
        "colab": {
          "base_uri": "https://localhost:8080/"
        },
        "id": "CcE27mGFYo3G",
        "outputId": "df5df0b2-dd50-447b-90eb-20307f187321"
      },
      "source": [
        "test=X_testing[0]\n",
        "y_act=Y_testing[0]\n",
        "result=model.predict(test.reshape(1,8))\n",
        "result"
      ],
      "execution_count": 31,
      "outputs": [
        {
          "output_type": "execute_result",
          "data": {
            "text/plain": [
              "array([[0.44749898, 0.55250096]], dtype=float32)"
            ]
          },
          "metadata": {},
          "execution_count": 31
        }
      ]
    },
    {
      "cell_type": "code",
      "metadata": {
        "colab": {
          "base_uri": "https://localhost:8080/"
        },
        "id": "T4RDC-ZHYqv_",
        "outputId": "625a2f7a-bf51-4c21-c564-6c93151d9122"
      },
      "source": [
        "import numpy as np\n",
        "y_pred = np.round(result)\n",
        "print(\"Actual:\"+ str(y_act))\n",
        "print(\"Predicted:\"+str(y_pred))"
      ],
      "execution_count": 17,
      "outputs": [
        {
          "output_type": "stream",
          "name": "stdout",
          "text": [
            "Actual:[1. 0.]\n",
            "Predicted:[[0. 1.]]\n"
          ]
        }
      ]
    },
    {
      "cell_type": "markdown",
      "metadata": {
        "id": "E9mMqJtXYz2Q"
      },
      "source": [
        "**Reference:** - https://keras.io/"
      ]
    }
  ]
}